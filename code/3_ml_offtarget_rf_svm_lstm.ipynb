{
 "cells": [
  {
   "cell_type": "markdown",
   "id": "ccd6aba0",
   "metadata": {},
   "source": [
    "# Off-target Prediction: SVM + LSTM\n",
    "Loads `sample_dna_sequences.csv`, builds features, trains SVM and a small LSTM."
   ]
  },
  {
   "cell_type": "code",
   "execution_count": null,
   "id": "ee1658d4",
   "metadata": {},
   "outputs": [],
   "source": [
    "# !pip install numpy pandas scikit-learn tensorflow matplotlib\n",
    "\n",
    "import numpy as np, pandas as pd\n",
    "from sklearn.model_selection import train_test_split\n",
    "from sklearn.metrics import accuracy_score, classification_report\n",
    "from sklearn.svm import SVC\n",
    "\n",
    "# Simple one-hot for A,T,C,G\n",
    "vocab = {'A':0,'T':1,'C':2,'G':3}\n",
    "def one_hot_seq(seq, max_len=30):\n",
    "    x = np.zeros((max_len, 4), dtype=np.float32)\n",
    "    for i, ch in enumerate(seq[:max_len]):\n",
    "        x[i, vocab[ch]] = 1.0\n",
    "    return x\n",
    "\n",
    "df = pd.read_csv('../datasets/sample_dna_sequences.csv')\n",
    "X = np.stack([one_hot_seq(s) for s in df['sequence'].values])  # (N, L, 4)\n",
    "y = df['label_offtarget'].values\n",
    "\n",
    "# Flatten for SVM\n",
    "X_flat = X.reshape(len(X), -1)\n",
    "X_train, X_test, y_train, y_test = train_test_split(X_flat, y, test_size=0.2, random_state=42, stratify=y)\n",
    "\n",
    "svm = SVC(kernel='linear')\n",
    "svm.fit(X_train, y_train)\n",
    "pred = svm.predict(X_test)\n",
    "print(\"SVM accuracy:\", accuracy_score(y_test, pred))\n",
    "print(classification_report(y_test, pred))\n"
   ]
  },
  {
   "cell_type": "code",
   "execution_count": null,
   "id": "a7985c51",
   "metadata": {},
   "outputs": [],
   "source": [
    "# LSTM model\n",
    "import tensorflow as tf\n",
    "from tensorflow.keras import layers, models\n",
    "\n",
    "# Use the original 3D tensors for LSTM (N, L, 4)\n",
    "X_full = X\n",
    "X_tr, X_te, y_tr, y_te = train_test_split(X_full, y, test_size=0.2, random_state=42, stratify=y)\n",
    "\n",
    "model = models.Sequential([\n",
    "    layers.Input(shape=(X_full.shape[1], X_full.shape[2])),\n",
    "    layers.LSTM(64),\n",
    "    layers.Dense(1, activation='sigmoid')\n",
    "])\n",
    "model.compile(optimizer='adam', loss='binary_crossentropy', metrics=['accuracy'])\n",
    "hist = model.fit(X_tr, y_tr, validation_split=0.2, epochs=5, batch_size=32, verbose=1)\n",
    "\n",
    "loss, acc = model.evaluate(X_te, y_te, verbose=0)\n",
    "print(\"LSTM accuracy:\", acc)\n"
   ]
  }
 ],
 "metadata": {},
 "nbformat": 4,
 "nbformat_minor": 5
}
