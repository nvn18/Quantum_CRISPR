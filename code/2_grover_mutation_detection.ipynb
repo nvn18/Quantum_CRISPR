{
 "cells": [
  {
   "cell_type": "markdown",
   "id": "b34d9243",
   "metadata": {},
   "source": [
    "# Grover's Algorithm for Mutation Detection (Toy Oracle)\n",
    "Marks a simple pattern as 'mutation' and amplifies it."
   ]
  },
  {
   "cell_type": "code",
   "execution_count": null,
   "id": "7d0c99a2",
   "metadata": {},
   "outputs": [],
   "source": [
    "# !pip install qiskit qiskit-aer\n",
    "\n",
    "from qiskit import QuantumCircuit\n",
    "from qiskit.circuit.library import ZGate\n",
    "from qiskit_algorithms import Grover, AmplificationProblem\n",
    "from qiskit_aer.primitives import Sampler\n",
    "\n",
    "# Build a 3-qubit oracle that marks |111> as the 'mutation' state (toy example)\n",
    "n = 3\n",
    "oracle = QuantumCircuit(n, name='oracle')\n",
    "oracle.cz(0,1)\n",
    "oracle.cz(1,2)\n",
    "oracle.cz(0,2)\n",
    "oracle_gate = oracle.to_gate()\n",
    "\n",
    "problem = AmplificationProblem(oracle_gate)\n",
    "grover = Grover(sampler=Sampler())\n",
    "result = grover.solve(problem)\n",
    "print(\"Good measurement (most frequent bitstring):\", result.top_measurement)\n"
   ]
  }
 ],
 "metadata": {},
 "nbformat": 4,
 "nbformat_minor": 5
}
