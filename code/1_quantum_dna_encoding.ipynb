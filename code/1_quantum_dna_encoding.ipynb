{
 "cells": [
  {
   "cell_type": "markdown",
   "id": "c1ebd5df",
   "metadata": {},
   "source": [
    "# Quantum DNA Encoding (Qiskit)\n",
    "This notebook encodes DNA bases into qubits and creates simple superpositions."
   ]
  },
  {
   "cell_type": "code",
   "execution_count": null,
   "id": "6e1f43d7",
   "metadata": {},
   "outputs": [],
   "source": [
    "# Install if needed:\n",
    "# !pip install qiskit qiskit-aer\n",
    "\n",
    "from qiskit import QuantumCircuit\n",
    "from qiskit_aer import AerSimulator\n",
    "from qiskit.visualization import circuit_drawer\n",
    "\n",
    "dna_map = {'A':'00', 'T':'01', 'C':'10', 'G':'11'}\n",
    "sequence = \"ATCG\"\n",
    "\n",
    "qc = QuantumCircuit(len(sequence))\n",
    "# Basic encoding demo: set |0> or apply X for '1' on each qubit bit by bit\n",
    "# For simplicity, we encode only the second bit: if second bit is '1', apply X\n",
    "for i, base in enumerate(sequence):\n",
    "    bits = dna_map[base]\n",
    "    if bits[1] == '1':\n",
    "        qc.x(i)\n",
    "\n",
    "display(circuit_drawer(qc, output='mpl'))\n",
    "\n",
    "sim = AerSimulator()\n",
    "qc.save_statevector()\n",
    "result = sim.run(qc).result()\n",
    "sv = result.get_statevector()\n",
    "print(\"Statevector length:\", len(sv))\n",
    "print(\"Statevector (truncated):\", sv[:8])\n"
   ]
  },
  {
   "cell_type": "markdown",
   "id": "ff9e60ed",
   "metadata": {},
   "source": [
    "## Add Superposition\n",
    "We can place qubits into superposition to explore multiple bases at once (demo)."
   ]
  },
  {
   "cell_type": "code",
   "execution_count": null,
   "id": "5e26aaea",
   "metadata": {},
   "outputs": [],
   "source": [
    "from qiskit import QuantumCircuit\n",
    "from qiskit_aer import AerSimulator\n",
    "\n",
    "n = 3\n",
    "qc2 = QuantumCircuit(n)\n",
    "for i in range(n):\n",
    "    qc2.h(i)    # superposition over 2^n states\n",
    "\n",
    "sim = AerSimulator()\n",
    "qc2.save_statevector()\n",
    "sv = sim.run(qc2).result().get_statevector()\n",
    "print(\"Superposition over\", 2**n, \"states; amplitude sample:\", sv[:4])\n"
   ]
  }
 ],
 "metadata": {},
 "nbformat": 4,
 "nbformat_minor": 5
}
