{
 "cells": [
  {
   "cell_type": "markdown",
   "id": "b4cc0e86",
   "metadata": {},
   "source": [
    "# Nanobot Delivery Simulation (Concept)\n",
    "A simple 2D grid navigation to a target with pH-triggered payload release."
   ]
  },
  {
   "cell_type": "code",
   "execution_count": null,
   "id": "b7445b8f",
   "metadata": {},
   "outputs": [],
   "source": [
    "import numpy as np\n",
    "import matplotlib.pyplot as plt\n",
    "\n",
    "np.random.seed(1)\n",
    "grid_size = 50\n",
    "start = np.array([2, 2])\n",
    "target = np.array([40, 40])\n",
    "\n",
    "# Synthetic pH map: lower pH (acidic) near target\n",
    "yy, xx = np.mgrid[0:grid_size, 0:grid_size]\n",
    "dist = np.sqrt((xx-target[0])**2 + (yy-target[1])**2)\n",
    "pH = 7.4 - (dist / dist.max()) * 2.0  # ~7.4 far away, ~5.4 near target\n",
    "\n",
    "pos = start.astype(float)\n",
    "traj = [pos.copy()]\n",
    "\n",
    "for _ in range(200):\n",
    "    # Move toward decreasing pH gradient\n",
    "    gx, gy = np.gradient(pH)\n",
    "    # Note: gradient points to increasing pH; move opposite\n",
    "    step = -np.array([gx[int(pos[1]), int(pos[0])], gy[int(pos[1]), int(pos[0])]])\n",
    "    step = step / (np.linalg.norm(step)+1e-8)\n",
    "    pos += step\n",
    "    pos = np.clip(pos, 0, grid_size-1)\n",
    "    traj.append(pos.copy())\n",
    "    if np.linalg.norm(pos - target) < 1.5:\n",
    "        break\n",
    "\n",
    "traj = np.array(traj)\n",
    "\n",
    "plt.figure()\n",
    "plt.imshow(pH, origin='lower')\n",
    "plt.plot(traj[:,0], traj[:,1])\n",
    "plt.scatter([start[0], target[0]], [start[1], target[1]])\n",
    "plt.title(\"Nanobot gradient-following to target (payload release near low pH)\")\n",
    "plt.savefig(\"../images/nanobot_path.png\", dpi=160, bbox_inches='tight')\n",
    "plt.show()\n"
   ]
  }
 ],
 "metadata": {},
 "nbformat": 4,
 "nbformat_minor": 5
}
